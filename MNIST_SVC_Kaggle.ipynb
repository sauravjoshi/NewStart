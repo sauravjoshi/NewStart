{
  "cells": [
    {
      "metadata": {
        "_uuid": "8f2839f25d086af736a60e9eeb907d3b93b6e0e5",
        "_cell_guid": "b1076dfc-b9ad-4769-8c92-a6c4dae69d19",
        "trusted": true
      },
      "cell_type": "code",
      "source": "# This Python 3 environment comes with many helpful analytics libraries installed\n# It is defined by the kaggle/python docker image: https://github.com/kaggle/docker-python\n# For example, here's several helpful packages to load in \n\nimport numpy as np # linear algebra\nimport pandas as pd # data processing, CSV file I/O (e.g. pd.read_csv)\n\n# Input data files are available in the \"../input/\" directory.\n# For example, running this (by clicking run or pressing Shift+Enter) will list the files in the input directory\n\nimport os\nprint(os.listdir(\"../input\"))\n\n# Any results you write to the current directory are saved as output.",
      "execution_count": null,
      "outputs": []
    },
    {
      "metadata": {
        "_cell_guid": "79c7e3d0-c299-4dcb-8224-4455121ee9b0",
        "_uuid": "d629ff2d2480ee46fbb7e2d37f6b5fab8052498a",
        "trusted": true
      },
      "cell_type": "code",
      "source": "import numpy as np \nimport pandas as pd \nimport matplotlib.pyplot as plt, matplotlib.image as mpimg\nfrom sklearn.model_selection import train_test_split, GridSearchCV\nfrom sklearn import svm\n",
      "execution_count": null,
      "outputs": []
    },
    {
      "metadata": {
        "trusted": true,
        "_uuid": "86fe33caa12fe3b114b540344e348f9e43574e7e"
      },
      "cell_type": "code",
      "source": "# params = {'C': [0.001, 0.01, 0.1, 1, 5],\n#                'gamma': [0.001, 0.01, 0.1, 1, 10]}\n# clf = GridSearchCV(svm.SVC(random_state=0),params, cv=5, n_jobs=-1)\n# clf.fit(train_images, train_labels.values.ravel())\n# clf.score(test_images,test_labels)",
      "execution_count": null,
      "outputs": []
    },
    {
      "metadata": {
        "trusted": true,
        "_uuid": "58e79f29a1be74249376b0757a4780e317c6d13b"
      },
      "cell_type": "code",
      "source": "# clf.best_params_",
      "execution_count": null,
      "outputs": []
    },
    {
      "metadata": {
        "trusted": true,
        "_uuid": "b4fae8a9a1d25b7c1cefdb15fcd2753d4a61b2ba"
      },
      "cell_type": "code",
      "source": "labeled_images = pd.read_csv('../input/train.csv')\nimages = labeled_images.iloc[:,1:]\nlabels = labeled_images.iloc[:,:1]\ntrain_images, test_images,train_labels, test_labels = train_test_split(images, labels, train_size=0.8, random_state=0)",
      "execution_count": null,
      "outputs": []
    },
    {
      "metadata": {
        "trusted": true,
        "_uuid": "9eef670cdad70883ebbe15923ad2fa906e82ede7"
      },
      "cell_type": "code",
      "source": "# shape_l = [train_images.shape, test_images.shape, train_labels.shape, test_labels.shape]",
      "execution_count": null,
      "outputs": []
    },
    {
      "metadata": {
        "trusted": true,
        "_uuid": "39eeccd8e612c6b6eb595f0d95a54bcff1abadcd"
      },
      "cell_type": "code",
      "source": "# shape_l",
      "execution_count": null,
      "outputs": []
    },
    {
      "metadata": {
        "trusted": true,
        "_uuid": "a324403ff3cda73d6b6a6a644f99eabb5509db4d"
      },
      "cell_type": "code",
      "source": "test_images[test_images>0]=1\ntrain_images[train_images>0]=1",
      "execution_count": null,
      "outputs": []
    },
    {
      "metadata": {
        "trusted": true,
        "_uuid": "f142140cd6d20d57495db601649c4697d1b5223d"
      },
      "cell_type": "code",
      "source": "clf = svm.SVC(random_state=0, gamma=0.01, C=5)\nclf.fit(train_images, train_labels.values.ravel())\nclf.score(test_images,test_labels)",
      "execution_count": null,
      "outputs": []
    },
    {
      "metadata": {
        "trusted": true,
        "_uuid": "92f6e2005d9b2633e03c0cf74b8d5e89d51d1dcc"
      },
      "cell_type": "code",
      "source": "test_data=pd.read_csv('../input/test.csv')",
      "execution_count": null,
      "outputs": []
    },
    {
      "metadata": {
        "trusted": true,
        "_uuid": "774d8549e62a965fd0e083343eaf7e5d5f786253"
      },
      "cell_type": "code",
      "source": "# test_data.shape",
      "execution_count": null,
      "outputs": []
    },
    {
      "metadata": {
        "trusted": true,
        "_uuid": "845b89a1202892887c21193f3ba0a44d2e0357e9"
      },
      "cell_type": "code",
      "source": "test_data[test_data>0]=1\nresults=clf.predict(test_data)",
      "execution_count": null,
      "outputs": []
    },
    {
      "metadata": {
        "trusted": true,
        "_uuid": "87723d96b5289e15e692c3a7f12e98f23390f2ff"
      },
      "cell_type": "code",
      "source": "# results",
      "execution_count": null,
      "outputs": []
    },
    {
      "metadata": {
        "trusted": true,
        "_uuid": "cb485911a67bba54ccf1558ce57420c9193fe45c"
      },
      "cell_type": "code",
      "source": "df = pd.DataFrame(results)\ndf.index.name='ImageId'\ndf.index+=1\ndf.columns=['Label']\ndf.to_csv('results.csv', header=True)",
      "execution_count": null,
      "outputs": []
    },
    {
      "metadata": {
        "trusted": true,
        "_uuid": "535a588cd62bab60224216a8e6cc5f3777a351d1"
      },
      "cell_type": "code",
      "source": "",
      "execution_count": null,
      "outputs": []
    }
  ],
  "metadata": {
    "kernelspec": {
      "display_name": "Python 3",
      "language": "python",
      "name": "python3"
    },
    "language_info": {
      "name": "python",
      "version": "3.6.6",
      "mimetype": "text/x-python",
      "codemirror_mode": {
        "name": "ipython",
        "version": 3
      },
      "pygments_lexer": "ipython3",
      "nbconvert_exporter": "python",
      "file_extension": ".py"
    }
  },
  "nbformat": 4,
  "nbformat_minor": 1
}